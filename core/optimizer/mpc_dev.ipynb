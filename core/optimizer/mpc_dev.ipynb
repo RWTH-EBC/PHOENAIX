{
 "cells": [
  {
   "cell_type": "code",
   "execution_count": 1,
   "metadata": {},
   "outputs": [],
   "source": [
    "from pathlib import Path\n",
    "import sys\n",
    "p = str(Path.cwd().parents[1])\n",
    "if p not in sys.path:\n",
    "    sys.path.insert(0, p)\n",
    "from core.utils.load_demands import load_demands_and_pv\n",
    "from core.utils.create_rh_params import create_rh_params\n",
    "from config.definitions import ROOT_DIR\n",
    "from pathlib import Path\n",
    "import pandas as pd\n",
    "from pprint import pprint\n",
    "import gurobipy as gp\n",
    "from mpc_dev import load_buildings\n",
    "from core.simulation.fmu_handler import FMUHandler\n",
    "\n",
    "%load_ext autoreload\n",
    "%autoreload 2"
   ]
  },
  {
   "cell_type": "code",
   "execution_count": 2,
   "metadata": {},
   "outputs": [
    {
     "name": "stdout",
     "output_type": "stream",
     "text": [
      "True\n",
      "d:\\Repos\\deq_demonstrator\\data\\01_input\\05_fmu\\DEQ_MVP_FMU.fmu\n"
     ]
    }
   ],
   "source": [
    "fmu_path = Path.cwd().parents[1] / 'data' / '01_input' / '05_fmu' / 'DEQ_MVP_FMU.fmu'\n",
    "print(fmu_path.is_file())\n",
    "print(fmu_path)\n",
    "\n"
   ]
  },
  {
   "cell_type": "code",
   "execution_count": 3,
   "metadata": {},
   "outputs": [
    {
     "name": "stdout",
     "output_type": "stream",
     "text": [
      "[WARNING] Warning: The following was detected at time: 0\n",
      "[WARNING]   In DEQ_MVP_FMU.haus_3.heatPump.con: The constant homotopyInitialization has been modified from its default value. This constant will be removed in future releases.\n",
      "  Failed condition: false\n",
      "\n",
      "[WARNING] Warning: The following was detected at time: 0\n",
      "[WARNING]   In DEQ_MVP_FMU.haus_3.heatPump.eva: The constant homotopyInitialization has been modified from its default value. This constant will be removed in future releases.\n",
      "  Failed condition: false\n",
      "\n",
      "[WARNING] Warning: The following was detected at time: 0\n",
      "[WARNING]   In DEQ_MVP_FMU.haus_1.heatPump.con: The constant homotopyInitialization has been modified from its default value. This constant will be removed in future releases.\n",
      "  Failed condition: false\n",
      "\n",
      "[WARNING] Warning: The following was detected at time: 0\n",
      "[WARNING]   In DEQ_MVP_FMU.haus_1.heatPump.eva: The constant homotopyInitialization has been modified from its default value. This constant will be removed in future releases.\n",
      "  Failed condition: false\n",
      "\n",
      "[WARNING] Warning: The following was detected at time: 0\n",
      "[WARNING]   In DEQ_MVP_FMU.haus_2.heatPump.con: The constant homotopyInitialization has been modified from its default value. This constant will be removed in future releases.\n",
      "  Failed condition: false\n",
      "\n",
      "[WARNING] Warning: The following was detected at time: 0\n",
      "[WARNING]   In DEQ_MVP_FMU.haus_2.heatPump.eva: The constant homotopyInitialization has been modified from its default value. This constant will be removed in future releases.\n",
      "  Failed condition: false\n",
      "\n",
      "[WARNING] Warning: The following was detected at time: 0\n",
      "[WARNING]   In DEQ_MVP_FMU.haus_3.heatPump.con.preDro: The constant homotopyInitialization has been modified from its default value. This constant will be removed in future releases.\n",
      "  Failed condition: false\n",
      "\n",
      "[WARNING] Warning: The following was detected at time: 0\n",
      "[WARNING]   In DEQ_MVP_FMU.haus_3.heatPump.eva.preDro: The constant homotopyInitialization has been modified from its default value. This constant will be removed in future releases.\n",
      "  Failed condition: false\n",
      "\n",
      "[WARNING] Warning: The following was detected at time: 0\n",
      "[WARNING]   In DEQ_MVP_FMU.haus_1.heatPump.con.preDro: The constant homotopyInitialization has been modified from its default value. This constant will be removed in future releases.\n",
      "  Failed condition: false\n",
      "\n",
      "[WARNING] Warning: The following was detected at time: 0\n",
      "[WARNING]   In DEQ_MVP_FMU.haus_1.heatPump.eva.preDro: The constant homotopyInitialization has been modified from its default value. This constant will be removed in future releases.\n",
      "  Failed condition: false\n",
      "\n",
      "[WARNING] Warning: The following was detected at time: 0\n",
      "[WARNING]   In DEQ_MVP_FMU.haus_2.heatPump.con.preDro: The constant homotopyInitialization has been modified from its default value. This constant will be removed in future releases.\n",
      "  Failed condition: false\n",
      "\n",
      "[WARNING] Warning: The following was detected at time: 0\n",
      "[WARNING]   In DEQ_MVP_FMU.haus_2.heatPump.eva.preDro: The constant homotopyInitialization has been modified from its default value. This constant will be removed in future releases.\n",
      "  Failed condition: false\n",
      "\n"
     ]
    }
   ],
   "source": [
    "fmu = FMUHandler(fmu_path=fmu_path,\n",
    "                 step_size=3600)\n",
    "\n",
    "fmu.initialize()"
   ]
  },
  {
   "cell_type": "code",
   "execution_count": 5,
   "metadata": {},
   "outputs": [],
   "source": [
    "fmu.do_step(None)\n",
    "fmu.current_time += 3600"
   ]
  },
  {
   "cell_type": "code",
   "execution_count": 9,
   "metadata": {},
   "outputs": [
    {
     "data": {
      "text/plain": [
       "['haus_3.storage.SOC',\n",
       " 'haus_3.storage.sOC_calc.SOC',\n",
       " 'haus_3.storage.sOC_calc.SOC_rel',\n",
       " 'haus_3.storage.SOC_rel',\n",
       " 'haus_3.SOC',\n",
       " 'haus_1.storage.SOC',\n",
       " 'haus_1.storage.sOC_calc.SOC',\n",
       " 'haus_1.storage.sOC_calc.SOC_rel',\n",
       " 'haus_1.storage.SOC_rel',\n",
       " 'haus_1.SOC',\n",
       " 'haus_2.storage.SOC',\n",
       " 'haus_2.storage.sOC_calc.SOC',\n",
       " 'haus_2.storage.sOC_calc.SOC_rel',\n",
       " 'haus_2.storage.SOC_rel',\n",
       " 'haus_2.SOC']"
      ]
     },
     "execution_count": 9,
     "metadata": {},
     "output_type": "execute_result"
    }
   ],
   "source": [
    "fmu.find_vars('SOC')"
   ]
  },
  {
   "cell_type": "code",
   "execution_count": 11,
   "metadata": {},
   "outputs": [
    {
     "data": {
      "text/plain": [
       "759.1796413773153"
      ]
     },
     "execution_count": 11,
     "metadata": {},
     "output_type": "execute_result"
    }
   ],
   "source": [
    "fmu.get_value('haus_2.SOC') / (3600) / 1000"
   ]
  },
  {
   "cell_type": "code",
   "execution_count": 29,
   "metadata": {},
   "outputs": [
    {
     "data": {
      "text/plain": [
       "36000.0"
      ]
     },
     "execution_count": 29,
     "metadata": {},
     "output_type": "execute_result"
    }
   ],
   "source": [
    "3.6*10e3"
   ]
  },
  {
   "cell_type": "code",
   "execution_count": null,
   "metadata": {},
   "outputs": [],
   "source": []
  }
 ],
 "metadata": {
  "kernelspec": {
   "display_name": "deq_demonstrator",
   "language": "python",
   "name": "python3"
  },
  "language_info": {
   "codemirror_mode": {
    "name": "ipython",
    "version": 3
   },
   "file_extension": ".py",
   "mimetype": "text/x-python",
   "name": "python",
   "nbconvert_exporter": "python",
   "pygments_lexer": "ipython3",
   "version": "3.10.13"
  }
 },
 "nbformat": 4,
 "nbformat_minor": 2
}
